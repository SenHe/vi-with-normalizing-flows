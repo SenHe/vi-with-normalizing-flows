{
 "cells": [
  {
   "cell_type": "code",
   "execution_count": 1,
   "metadata": {},
   "outputs": [],
   "source": [
    "from collections import namedtuple"
   ]
  },
  {
   "cell_type": "code",
   "execution_count": 2,
   "metadata": {},
   "outputs": [],
   "source": [
    "import torch\n",
    "import torch.utils.data\n",
    "from torch import nn, optim\n",
    "from torch.nn import functional as F\n",
    "from torch.autograd import Variable\n",
    "from torchvision import datasets, transforms\n",
    "from torchvision.utils import save_image\n",
    "from torch.distributions import multivariate_normal"
   ]
  },
  {
   "cell_type": "code",
   "execution_count": 3,
   "metadata": {},
   "outputs": [],
   "source": [
    "from typing import Tuple, List"
   ]
  },
  {
   "cell_type": "code",
   "execution_count": 4,
   "metadata": {},
   "outputs": [],
   "source": [
    "import numpy as np\n",
    "import matplotlib.pyplot as plt"
   ]
  },
  {
   "cell_type": "code",
   "execution_count": 5,
   "metadata": {},
   "outputs": [],
   "source": [
    "class Transformation(nn.Module):\n",
    "    \n",
    "    def __init__(self):\n",
    "        super(Transformation, self).__init__()\n",
    "        self.training = None\n",
    "        self.log_det = None\n",
    "        \n",
    "    @property\n",
    "    def training(self):\n",
    "        return self._training\n",
    "    \n",
    "    @training.setter\n",
    "    def training(self, enable:bool):\n",
    "        if not enable:\n",
    "            self.log_det = None\n",
    "        self._training = enable\n",
    "    \n",
    "    def forward(self, zi):\n",
    "        if self.training:\n",
    "            self.log_det = torch.log( self.det( zi ).squeeze() + 1e-7 )\n",
    "        return self.transform( zi )"
   ]
  },
  {
   "cell_type": "markdown",
   "metadata": {},
   "source": [
    "planar functions:\n",
    "$$f(z) = z + u h(w^Tz +b)$$\n",
    "\n",
    "their derivatives:\n",
    "$$\\psi (z) = h'(w^Tz + b)w$$\n",
    "\n",
    "determinant:\n",
    "$$\\left | \\det\\frac{df}{dz}\\right | = \\left | \\det \\left (I + u \\psi (z)^T \\right ) \\right | = \\left | 1 + u^T \\psi(z) \\right |$$\n",
    "\n",
    "flow:\n",
    "$$\\ln_{q_K} (z_K) = \\ln_{q_0}(z) - \\sum_{k=1}^{K} \\ln \\ \\left | 1 + u_k^T \\psi_k(z_{k-1}) \\right |$$"
   ]
  },
  {
   "cell_type": "code",
   "execution_count": 6,
   "metadata": {},
   "outputs": [],
   "source": [
    "class PlanarTransformation(Transformation):\n",
    "    \n",
    "    def __init__(self, dim:int, u:list=None, w:list=None, b:list=None, training:bool=True):\n",
    "        \n",
    "        super(PlanarTransformation, self).__init__()\n",
    "        \n",
    "        self.dim = dim\n",
    "        self.w = nn.Parameter(torch.Tensor(1, dim))\n",
    "        self.b = nn.Parameter(torch.Tensor(1))\n",
    "        self.u = nn.Parameter(torch.Tensor(1, dim))\n",
    "        self.h = nn.Tanh()\n",
    "        \n",
    "        self.reset()\n",
    "        \n",
    "        if u is not None:\n",
    "            self.u.data = torch.Tensor(u).unsqueeze(0)\n",
    "        if w is not None:\n",
    "            self.w.data = torch.Tensor(w).unsqueeze(0)\n",
    "        if b is not None:\n",
    "            self.b.data = torch.Tensor(b)\n",
    "    \n",
    "        if torch.dot(self.w.data.squeeze(), self.u.data.squeeze()) < -1:\n",
    "            print( \"adjusting u\")\n",
    "            dotwu = torch.dot( self.w.data.squeeze(), self.u.data.squeeze() )\n",
    "            self.u.data = self.u + ( -1 + torch.log( 1 + torch.exp( dotwu ) ) - dotwu ) \\\n",
    "                            * self.w.data / torch.sqrt( torch.dot( self.w.data.squeeze(), self.w.data.squeeze() ) )\n",
    "\n",
    "        self.training = training\n",
    "        \n",
    "    def reset(self):\n",
    "        self.w.data.uniform_(-0.01, 0.01)\n",
    "        self.u.data.uniform_(-0.01, 0.01)\n",
    "        self.b.data.uniform_(-0.01, 0.01)\n",
    "            \n",
    "    def transform(self, z):\n",
    "        return z + self.u * self.h( F.linear(z, self.w, self.b) )\n",
    "    \n",
    "    def h_deriv(self, x):\n",
    "        ff = self.h( x )\n",
    "        return 1 - ff * ff\n",
    "    \n",
    "    def psi(self, z):\n",
    "        return self.h_deriv( F.linear(z, self.w, self.b) ) * self.w\n",
    "    \n",
    "    def det(self, z):\n",
    "        return (1 + torch.mm( self.psi( z ), self.u.data.t() ) ).abs()"
   ]
  },
  {
   "cell_type": "code",
   "execution_count": 7,
   "metadata": {},
   "outputs": [],
   "source": [
    "class RadialTransformation(Transformation):\n",
    "    \n",
    "    def __init__(self, dim:int, z0=None, alpha=None, beta=None, training:bool=True):\n",
    "        \n",
    "        super(RadialTransformation, self).__init__()\n",
    "        \n",
    "        self.dim = dim\n",
    "        self.z0 = nn.Parameter(torch.Tensor(dim))\n",
    "        self.alpha = nn.Parameter(torch.Tensor(1))\n",
    "        self.beta = nn.Parameter(torch.Tensor(1))\n",
    "        \n",
    "        self.reset()\n",
    "        \n",
    "        if z0 is not None:\n",
    "            self.z0.data = torch.Tensor(z0)\n",
    "        \n",
    "        if alpha is not None:\n",
    "            self.alpha.data = torch.Tensor(alpha)\n",
    "        \n",
    "        if beta is not None:\n",
    "            self.beta.data = torch.Tensor(beta)\n",
    "\n",
    "        if self.beta < -self.alpha:\n",
    "            print( \"adjusting beta\")\n",
    "            self.beta.data = -self.alpha + torch.log( 1 + torch.exp( self.beta ) )\n",
    "\n",
    "        self.training = training\n",
    "        \n",
    "    def reset(self):\n",
    "        self.z0.data.uniform_(-0.01, 0.01)\n",
    "        self.alpha.data.uniform_(0.0, 0.01)\n",
    "        self.beta.data.uniform_(-0.01, 0.01)\n",
    "        \n",
    "    def transform(self, z):\n",
    "        r = z - self.z0\n",
    "        r = torch.sqrt( torch.bmm( r.unsqueeze(1), r.unsqueeze(2) ) ).squeeze()\n",
    "        return z + self.beta * (self.h( r ).expand(2,-1).data.t() * (z - self.z0))\n",
    "    \n",
    "    def h(self, r):\n",
    "        return 1 / (self.alpha + r)\n",
    "    \n",
    "    def h_deriv(self, r):\n",
    "        ff = self.h( r )\n",
    "        return - ff * ff\n",
    "    \n",
    "    def det(self, z):\n",
    "        r = z - self.z0\n",
    "        r = torch.sqrt( torch.bmm( r.unsqueeze(1), r.unsqueeze(2) ) ).squeeze()\n",
    "        tmp = 1 + self.beta * self.h( r )\n",
    "        return tmp * (tmp + self.beta * self.h_deriv(r) * r)"
   ]
  },
  {
   "cell_type": "code",
   "execution_count": 8,
   "metadata": {},
   "outputs": [],
   "source": [
    "class NormalizingFlow(nn.Module):\n",
    "    \n",
    "    def __init__( self, transformation, dim:int, K:int, transformations=None ):\n",
    "        super(NormalizingFlow, self).__init__()\n",
    "        self.K = K\n",
    "        self.dim = dim\n",
    "        self.transformation = transformation\n",
    "        \n",
    "        if transformations is None:\n",
    "            transformations = [ self.transformation( dim ) for i in range( K ) ]\n",
    "        self.flow = nn.Sequential(*transformations)\n",
    "        \n",
    "    def get_log_qk(self):\n",
    "        return self.flow[-1].log_det\n",
    "    \n",
    "    def get_sum_log_qk(self):\n",
    "        ret = 0\n",
    "        for trans in self.flow:\n",
    "            ret += trans.log_det\n",
    "        return ret\n",
    "        \n",
    "    def forward( self, z ):\n",
    "        return self.flow(z)"
   ]
  },
  {
   "cell_type": "code",
   "execution_count": 9,
   "metadata": {},
   "outputs": [],
   "source": [
    "def target_density(z):\n",
    "\n",
    "    z1, z2 = torch.chunk(z, chunks=2, dim=1)\n",
    "    norm = torch.sqrt(z1 ** 2 + z2 ** 2)\n",
    "\n",
    "    exp1 = torch.exp(-0.5 * ((z1 - 2) / 0.8) ** 2)\n",
    "    exp2 = torch.exp(-0.5 * ((z1 + 2) / 0.8) ** 2)\n",
    "    u = 0.5 * ((norm - 4) / 0.4) ** 2 - torch.log(exp1 + exp2 + 1e-7)\n",
    "\n",
    "    return torch.exp(-u)\n",
    "\n",
    "standard_normal_2d = multivariate_normal.MultivariateNormal(torch.zeros(2), torch.eye(2))\n",
    "\n",
    "class LossFunction(nn.Module):\n",
    "\n",
    "    def __init__(self, target_density, log_q0):\n",
    "        super().__init__()\n",
    "        self.log_q0 = log_q0\n",
    "        self.target_density = target_density\n",
    "\n",
    "    def forward(self, z0, zk, sum_log_jacobians):\n",
    "        return (self.log_q0(z0) - sum_log_jacobians - torch.log(self.target_density(zk) + 1e-7)).mean()"
   ]
  },
  {
   "cell_type": "code",
   "execution_count": 10,
   "metadata": {},
   "outputs": [],
   "source": [
    "def train_flow( flow, log_q0, target_density,\n",
    "    initial_lr = 0.01,\n",
    "    lr_decay = 0.999,\n",
    "    log_interval = 1000,\n",
    "    iterations = 10000,\n",
    "    batch_size = 100, ):\n",
    "    \n",
    "    lf = LossFunction(target_density=target_density, log_q0=log_q0)\n",
    "    optimizer = optim.RMSprop(flow.parameters(), lr=initial_lr)\n",
    "    scheduler = optim.lr_scheduler.ExponentialLR(optimizer, lr_decay)\n",
    "\n",
    "\n",
    "\n",
    "    for iteration in range(1, iterations + 1):\n",
    "\n",
    "        scheduler.step()\n",
    "\n",
    "        samples = Variable(standard_normal_2d.sample(torch.Size([batch_size])))\n",
    "        z0 = samples.clone()\n",
    "        zk = flow(samples)\n",
    "\n",
    "        optimizer.zero_grad()\n",
    "        loss = lf(z0, zk, flow.get_sum_log_qk())\n",
    "        loss.backward()\n",
    "        optimizer.step()\n",
    "\n",
    "        if iteration % log_interval == 1:\n",
    "            print(\"Loss on iteration {}: {}\".format(iteration , loss.data[0]))"
   ]
  },
  {
   "cell_type": "code",
   "execution_count": 11,
   "metadata": {},
   "outputs": [],
   "source": [
    "flow = NormalizingFlow( 2, 4, PlanarTransformation, transformations=[PlanarTransformation(2, w=[5.0, 5.0], b=[1e-10], u=[0.1,0.1]),\n",
    "                                                    PlanarTransformation(2, w=[10.0, 0.0], b=[1e-10], u=[0.1,0.1] ) ] )"
   ]
  },
  {
   "cell_type": "code",
   "execution_count": 12,
   "metadata": {},
   "outputs": [],
   "source": [
    "flow = NormalizingFlow( 2, 4, PlanarTransformation, transformations=[PlanarTransformation(2, w=[0.0, 5.0], b=[1e-10], u=[-0.1,-0.1]),\n",
    "                                                    PlanarTransformation(2, w=[5.0, 0.0], b=[1e-10], u=[0.3,0.3])] )"
   ]
  },
  {
   "cell_type": "code",
   "execution_count": 13,
   "metadata": {},
   "outputs": [],
   "source": [
    "flow = NormalizingFlow( PlanarTransformation, dim=2, K=4 )"
   ]
  },
  {
   "cell_type": "code",
   "execution_count": 14,
   "metadata": {
    "scrolled": false
   },
   "outputs": [
    {
     "name": "stderr",
     "output_type": "stream",
     "text": [
      "/opt/conda/lib/python3.6/site-packages/ipykernel_launcher.py:28: UserWarning: invalid index of a 0-dim tensor. This will be an error in PyTorch 0.5. Use tensor.item() to convert a 0-dim tensor to a Python number\n"
     ]
    },
    {
     "name": "stdout",
     "output_type": "stream",
     "text": [
      "Loss on iteration 1: 14.849019050598145\n",
      "Loss on iteration 1001: 1.4641304016113281\n",
      "Loss on iteration 2001: 1.9965722560882568\n",
      "Loss on iteration 3001: 2.1180243492126465\n",
      "Loss on iteration 4001: 1.9147778749465942\n",
      "Loss on iteration 5001: 1.90888512134552\n",
      "Loss on iteration 6001: 1.9715322256088257\n",
      "Loss on iteration 7001: 2.008640766143799\n",
      "Loss on iteration 8001: 1.949527382850647\n",
      "Loss on iteration 9001: 1.6213197708129883\n"
     ]
    }
   ],
   "source": [
    "train_flow( flow, lambda x: torch.zeros(x.shape[0]), target_density, iterations=10000, batch_size=100 )"
   ]
  },
  {
   "cell_type": "code",
   "execution_count": 15,
   "metadata": {},
   "outputs": [],
   "source": [
    "x, y = np.meshgrid(np.linspace(-7,7,100), np.linspace(-7,7,100))\n",
    "z0 = torch.tensor(np.dstack((x,y)).reshape(-1, 2), dtype=torch.float32)\n",
    "zk = flow( z0 ).data.numpy()\n",
    "qk = flow.get_log_qk().data.numpy()"
   ]
  },
  {
   "cell_type": "code",
   "execution_count": 16,
   "metadata": {},
   "outputs": [
    {
     "data": {
      "image/png": "[encoded data removed]",
      "text/plain": [
       "<Figure size 720x720 with 1 Axes>"
      ]
     },
     "metadata": {
      "needs_background": "light"
     },
     "output_type": "display_data"
    }
   ],
   "source": [
    "plt.figure(figsize=[10,10])\n",
    "plt.scatter( zk[:,0], zk[:,1], 1)\n",
    "plt.show()"
   ]
  },
  {
   "cell_type": "markdown",
   "metadata": {},
   "source": [
    "The inference algorithm:\n",
    "    \n",
    "Parameters: $\\phi$ variational, $\\theta$ generative\n",
    "    \n",
    "while not converged do:\n",
    "        \n",
    "$\\quad \\text{x = {Get mini batch}}\\\\\n",
    "\\quad z_0 ~ q_0(\\cdot | x)\\\\\n",
    "\\quad z_K = f_K( ... f_1(z_0) )\\\\\n",
    "\\quad F(x) \\approx F(x, z_K)\\\\\n",
    "\\quad \\Delta \\theta \\propto - \\nabla_\\theta F(x)\\\\\n",
    "\\quad \\Delta \\phi \\propto - \\nabla_\\phi F(x)$"
   ]
  },
  {
   "cell_type": "code",
   "execution_count": null,
   "metadata": {},
   "outputs": [],
   "source": []
  }
 ],
 "metadata": {
  "kernelspec": {
   "display_name": "Python 3",
   "language": "python",
   "name": "python3"
  },
  "language_info": {
   "codemirror_mode": {
    "name": "ipython",
    "version": 3
   },
   "file_extension": ".py",
   "mimetype": "text/x-python",
   "name": "python",
   "nbconvert_exporter": "python",
   "pygments_lexer": "ipython3",
   "version": "3.6.6"
  }
 },
 "nbformat": 4,
 "nbformat_minor": 2
}
